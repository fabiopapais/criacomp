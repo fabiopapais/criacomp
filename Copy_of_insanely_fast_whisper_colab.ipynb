{
  "nbformat": 4,
  "nbformat_minor": 0,
  "metadata": {
    "colab": {
      "provenance": [],
      "gpuType": "T4",
      "include_colab_link": true
    },
    "kernelspec": {
      "name": "python3",
      "display_name": "Python 3"
    },
    "language_info": {
      "name": "python"
    },
    "accelerator": "GPU"
  },
  "cells": [
    {
      "cell_type": "markdown",
      "metadata": {
        "id": "view-in-github",
        "colab_type": "text"
      },
      "source": [
        "<a href=\"https://colab.research.google.com/github/filipecalegario/criacomp/blob/main/Copy_of_insanely_fast_whisper_colab.ipynb\" target=\"_parent\"><img src=\"https://colab.research.google.com/assets/colab-badge.svg\" alt=\"Open In Colab\"/></a>"
      ]
    },
    {
      "cell_type": "markdown",
      "source": [
        "# [Insanely Fast Whisper](https://github.com/Vaibhavs10/insanely-fast-whisper)\n",
        "\n",
        "By VB (https://twitter.com/reach_vb)\n",
        "\n",
        "P.S. Make sure you're on a GPU run-time 🤗"
      ],
      "metadata": {
        "id": "q0MBgZKbhdII"
      }
    },
    {
      "cell_type": "code",
      "source": [
        "!pip install -q pipx && apt install python3.10-venv"
      ],
      "metadata": {
        "colab": {
          "base_uri": "https://localhost:8080/"
        },
        "id": "VF-qp-FWJmyD",
        "outputId": "c51c3fc4-702b-4f88-a716-627b8547ff47"
      },
      "execution_count": null,
      "outputs": [
        {
          "output_type": "stream",
          "name": "stdout",
          "text": [
            "\u001b[?25l     \u001b[90m━━━━━━━━━━━━━━━━━━━━━━━━━━━━━━━━━━━━━━━━\u001b[0m \u001b[32m0.0/77.8 kB\u001b[0m \u001b[31m?\u001b[0m eta \u001b[36m-:--:--\u001b[0m\r\u001b[2K     \u001b[91m━━━━━━━━━━━━━━━━━━━━━━━━━━━━━━━━━━━━\u001b[0m\u001b[91m╸\u001b[0m\u001b[90m━━━\u001b[0m \u001b[32m71.7/77.8 kB\u001b[0m \u001b[31m2.2 MB/s\u001b[0m eta \u001b[36m0:00:01\u001b[0m\r\u001b[2K     \u001b[90m━━━━━━━━━━━━━━━━━━━━━━━━━━━━━━━━━━━━━━━━\u001b[0m \u001b[32m77.8/77.8 kB\u001b[0m \u001b[31m1.7 MB/s\u001b[0m eta \u001b[36m0:00:00\u001b[0m\n",
            "\u001b[2K     \u001b[90m━━━━━━━━━━━━━━━━━━━━━━━━━━━━━━━━━━━━━━━━\u001b[0m \u001b[32m42.6/42.6 kB\u001b[0m \u001b[31m2.6 MB/s\u001b[0m eta \u001b[36m0:00:00\u001b[0m\n",
            "Reading package lists... Done\n",
            "Building dependency tree... Done\n",
            "Reading state information... Done\n",
            "The following additional packages will be installed:\n",
            "  python3-pip-whl python3-setuptools-whl\n",
            "The following NEW packages will be installed:\n",
            "  python3-pip-whl python3-setuptools-whl python3.10-venv\n",
            "0 upgraded, 3 newly installed, 0 to remove and 45 not upgraded.\n",
            "Need to get 2,473 kB of archives.\n",
            "After this operation, 2,884 kB of additional disk space will be used.\n",
            "Get:1 http://archive.ubuntu.com/ubuntu jammy-updates/universe amd64 python3-pip-whl all 22.0.2+dfsg-1ubuntu0.4 [1,680 kB]\n",
            "Get:2 http://archive.ubuntu.com/ubuntu jammy-updates/universe amd64 python3-setuptools-whl all 59.6.0-1.2ubuntu0.22.04.1 [788 kB]\n",
            "Get:3 http://archive.ubuntu.com/ubuntu jammy-updates/universe amd64 python3.10-venv amd64 3.10.12-1~22.04.3 [5,716 B]\n",
            "Fetched 2,473 kB in 3s (947 kB/s)\n",
            "Selecting previously unselected package python3-pip-whl.\n",
            "(Reading database ... 121918 files and directories currently installed.)\n",
            "Preparing to unpack .../python3-pip-whl_22.0.2+dfsg-1ubuntu0.4_all.deb ...\n",
            "Unpacking python3-pip-whl (22.0.2+dfsg-1ubuntu0.4) ...\n",
            "Selecting previously unselected package python3-setuptools-whl.\n",
            "Preparing to unpack .../python3-setuptools-whl_59.6.0-1.2ubuntu0.22.04.1_all.deb ...\n",
            "Unpacking python3-setuptools-whl (59.6.0-1.2ubuntu0.22.04.1) ...\n",
            "Selecting previously unselected package python3.10-venv.\n",
            "Preparing to unpack .../python3.10-venv_3.10.12-1~22.04.3_amd64.deb ...\n",
            "Unpacking python3.10-venv (3.10.12-1~22.04.3) ...\n",
            "Setting up python3-setuptools-whl (59.6.0-1.2ubuntu0.22.04.1) ...\n",
            "Setting up python3-pip-whl (22.0.2+dfsg-1ubuntu0.4) ...\n",
            "Setting up python3.10-venv (3.10.12-1~22.04.3) ...\n"
          ]
        }
      ]
    },
    {
      "cell_type": "code",
      "source": [
        "!pipx run insanely-fast-whisper --file-name /content/11041005.MP3"
      ],
      "metadata": {
        "colab": {
          "base_uri": "https://localhost:8080/"
        },
        "id": "i_H9Dm89Jj0-",
        "outputId": "b657c84a-cb74-48af-c6fd-38120fcb2182"
      },
      "execution_count": null,
      "outputs": [
        {
          "output_type": "stream",
          "name": "stdout",
          "text": [
            "config.json: 100% 1.27k/1.27k [00:00<00:00, 7.52MB/s]\n",
            "model.safetensors: 100% 3.09G/3.09G [00:16<00:00, 184MB/s]\n",
            "generation_config.json: 100% 3.90k/3.90k [00:00<00:00, 29.5MB/s]\n",
            "tokenizer_config.json: 100% 283k/283k [00:00<00:00, 33.3MB/s]\n",
            "vocab.json: 100% 1.04M/1.04M [00:00<00:00, 1.57MB/s]\n",
            "tokenizer.json: 100% 2.48M/2.48M [00:00<00:00, 5.59MB/s]\n",
            "merges.txt: 100% 494k/494k [00:00<00:00, 29.2MB/s]\n",
            "normalizer.json: 100% 52.7k/52.7k [00:00<00:00, 142MB/s]\n",
            "added_tokens.json: 100% 34.6k/34.6k [00:00<00:00, 118MB/s]\n",
            "special_tokens_map.json: 100% 2.07k/2.07k [00:00<00:00, 12.9MB/s]\n",
            "Special tokens have been added in the vocabulary, make sure the associated word embeddings are fine-tuned or trained.\n",
            "preprocessor_config.json: 100% 340/340 [00:00<00:00, 2.09MB/s]\n",
            "\u001b[2K🤗 \u001b[33mTranscribing...\u001b[0m \u001b[93m━\u001b[0m\u001b[93m━\u001b[0m\u001b[93m━\u001b[0m\u001b[93m━\u001b[0m\u001b[93m━\u001b[0m\u001b[93m━\u001b[0m\u001b[93m━\u001b[0m\u001b[93m━\u001b[0m\u001b[93m━\u001b[0m\u001b[93m━\u001b[0m\u001b[93m━\u001b[0m\u001b[93m━\u001b[0m\u001b[93m━\u001b[0m\u001b[37m━\u001b[0m\u001b[37m━\u001b[0m\u001b[37m━\u001b[0m\u001b[37m━\u001b[0m\u001b[37m━\u001b[0m\u001b[37m━\u001b[0m\u001b[37m━\u001b[0m\u001b[93m━\u001b[0m\u001b[93m━\u001b[0m\u001b[93m━\u001b[0m\u001b[93m━\u001b[0m\u001b[93m━\u001b[0m\u001b[93m━\u001b[0m\u001b[93m━\u001b[0m\u001b[93m━\u001b[0m\u001b[93m━\u001b[0m\u001b[93m━\u001b[0m\u001b[93m━\u001b[0m\u001b[93m━\u001b[0m\u001b[93m━\u001b[0m\u001b[37m━\u001b[0m\u001b[37m━\u001b[0m\u001b[37m━\u001b[0m\u001b[37m━\u001b[0m\u001b[37m━\u001b[0m\u001b[37m━\u001b[0m\u001b[37m━\u001b[0m \u001b[33m0:00:06\u001b[0m\n",
            "\u001b[?25hVoila!✨ Your file has been transcribed go check it out over here 👉 output.json\n"
          ]
        }
      ]
    },
    {
      "cell_type": "code",
      "source": [
        "!head output.json"
      ],
      "metadata": {
        "colab": {
          "base_uri": "https://localhost:8080/"
        },
        "id": "NDFrydpsvu57",
        "outputId": "e24120b5-8d06-4c1b-e049-8cdd6d795984"
      },
      "execution_count": null,
      "outputs": [
        {
          "metadata": {
            "tags": null
          },
          "name": "stdout",
          "output_type": "stream",
          "text": [
            "{\"speakers\": [], \"chunks\": [{\"timestamp\": [0.0, 4.0], \"text\": \" Alissa Seixas, por favor.\"}, {\"timestamp\": [8.0, 10.16], \"text\": \" Ficou nervosa porque eu tava gravando, né?\"}, {\"timestamp\": [11.52, 13.14], \"text\": \" Quase que eu fodo tudo aqui.\"}, {\"timestamp\": [14.02, 15.48], \"text\": \" Quase que eu fodo tudo aqui.\"}, {\"timestamp\": [16.46, 24.26], \"text\": \" Queria que você relatasse o que você está sentindo depois de sete horas no aeroporto de Congonhas.\"}, {\"timestamp\": [26.14, 33.24], \"text\": \" sete horas no aeroporto de Congonhas apenas o começo da nossa jornada de volta à nossa querida terra\"}, {\"timestamp\": [33.24, 36.04], \"text\": \" Recife\"}, {\"timestamp\": [36.04, 40.04], \"text\": \" Não aguento mais olhar a tua cara\"}, {\"timestamp\": [40.04, 44.04], \"text\": \" Também te amo\"}, {\"timestamp\": [44.04, 47.0], \"text\": \" A gente daqui, a gente ainda vai para Belo Horizonte.\"}, {\"timestamp\": [49.0, 52.0], \"text\": \" E a Alissa está muito bem humorada.\"}, {\"timestamp\": [53.0, 55.0], \"text\": \" Rindo de tudo.\"}, {\"timestamp\": [56.0, 58.0], \"text\": \" Tô com fome, véio.\"}, {\"timestamp\": [59.0, 61.0], \"text\": \" Eu já escutei isso umas 15 vezes hoje.\"}, {\"timestamp\": [62.0, 64.0], \"text\": \" Essa mulher vai estourar.\"}, {\"timestamp\": [65.76, 70.38], \"text\": \" Vou comer o que que tem? Oourar o que é bom né\"}, {\"timestamp\": [70.38, 73.92], \"text\": \" o que é bom\"}], \"text\": \" Alissa Seixas, por favor. Ficou nervosa porque eu tava gravando, né? Quase que eu fodo tudo aqui. Quase que eu fodo tudo aqui. Queria que você relatasse o que você está sentindo depois de sete horas no aeroporto de Congonhas. sete horas no aeroporto de Congonhas apenas o começo da nossa jornada de volta à nossa querida terra Recife Não aguento mais olhar a tua cara Também te amo A gente daqui, a gente ainda vai para Belo Horizonte. E a Alissa está muito bem humorada. Rindo de tudo. Tô com fome, véio. Eu já escutei isso umas 15 vezes hoje. Essa mulher vai estourar. Vou comer o que que tem? Oourar o que é bom né o que é bom\"}"
          ]
        }
      ]
    }
  ]
}