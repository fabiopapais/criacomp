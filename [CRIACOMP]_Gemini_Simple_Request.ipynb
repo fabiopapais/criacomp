{
  "nbformat": 4,
  "nbformat_minor": 0,
  "metadata": {
    "colab": {
      "provenance": [],
      "gpuType": "T4",
      "include_colab_link": true
    },
    "kernelspec": {
      "name": "python3",
      "display_name": "Python 3"
    },
    "language_info": {
      "name": "python"
    },
    "accelerator": "GPU"
  },
  "cells": [
    {
      "cell_type": "markdown",
      "metadata": {
        "id": "view-in-github",
        "colab_type": "text"
      },
      "source": [
        "<a href=\"https://colab.research.google.com/github/filipecalegario/ref-aulas-criacomp/blob/main/%5BCRIACOMP%5D_Gemini_Simple_Request.ipynb\" target=\"_parent\"><img src=\"https://colab.research.google.com/assets/colab-badge.svg\" alt=\"Open In Colab\"/></a>"
      ]
    },
    {
      "cell_type": "markdown",
      "source": [
        "<b>Use Gemini to prompt Stable Diffusion</b>\n",
        "\n",
        "Finding the right words to prompt an image generator can be a chore. Use Google's latest model release, Gemini, to prompt Stable Diffusion to produce amazing generated imagery.\n",
        "\n",
        "This notebook includes modified code from [woctezuma/stable-diffusion-colab](https://github.com/woctezuma/stable-diffusion-colab). Thanks."
      ],
      "metadata": {
        "id": "ZWhWniBGu3_Y"
      }
    },
    {
      "cell_type": "code",
      "source": [
        "#@title Check for a GPU\n",
        "#todo fail if this fails\n",
        "\n",
        "import os\n",
        "\n",
        "if os.system('nvidia-smi'):\n",
        "  raise Exception(\"No GPU found. Access a GPU through Runtime > Change runtime type and try again.\")"
      ],
      "metadata": {
        "cellView": "form",
        "id": "Opn0sFIkuoVw"
      },
      "execution_count": 1,
      "outputs": []
    },
    {
      "cell_type": "code",
      "source": [
        "#@title Configure Gemini API key\n",
        "\n",
        "#Access your Gemini API key\n",
        "\n",
        "import google.generativeai as genai\n",
        "from google.colab import userdata\n",
        "\n",
        "gemini_api_secret_name = 'genai_google'  # @param {type: \"string\"}\n",
        "\n",
        "try:\n",
        "  GOOGLE_API_KEY=userdata.get(gemini_api_secret_name)\n",
        "  genai.configure(api_key=GOOGLE_API_KEY)\n",
        "except userdata.SecretNotFoundError as e:\n",
        "   print(f'''Secret not found\\n\\nThis expects you to create a secret named {gemini_api_secret_name} in Colab\\n\\nVisit https://makersuite.google.com/app/apikey to create an API key\\n\\nStore that in the secrets section on the left side of the notebook (key icon)\\n\\nName the secret {gemini_api_secret_name}''')\n",
        "   raise e\n",
        "except userdata.NotebookAccessError as e:\n",
        "  print(f'''You need to grant this notebook access to the {gemini_api_secret_name} secret in order for the notebook to access Gemini on your behalf.''')\n",
        "  raise e\n",
        "except Exception as e:\n",
        "  # unknown error\n",
        "  print(f\"There was an unknown error. Ensure you have a secret {gemini_api_secret_name} stored in Colab and it's a valid key from https://makersuite.google.com/app/apikey\")\n",
        "  raise e\n",
        "\n",
        "model = genai.GenerativeModel('gemini-pro')"
      ],
      "metadata": {
        "id": "yFv1abRcv2P2",
        "cellView": "form"
      },
      "execution_count": 2,
      "outputs": []
    },
    {
      "cell_type": "code",
      "source": [
        "#@title Use Gemini to create a text prompt with to feed to Stable Diffusion\n",
        "\n",
        "model = genai.GenerativeModel('gemini-pro')\n",
        "\n",
        "text = 'Draw a kitty cat typing on a computer' # @param {type:\"string\"}\n",
        "\n",
        "prompt = \"You are creating a prompt for Stable Diffusion to generate an image. Please generate a text prompt for %s. Only respond with the prompt itself, but embellish it as needed but keep it under 80 tokens.\" % text\n",
        "response = model.generate_content(prompt)\n",
        "response.text"
      ],
      "metadata": {
        "colab": {
          "base_uri": "https://localhost:8080/",
          "height": 53
        },
        "id": "GfBJHe1NusKt",
        "outputId": "223b6bc6-d566-4fbe-eafa-e4092bc5ebd2",
        "cellView": "form"
      },
      "execution_count": 3,
      "outputs": [
        {
          "output_type": "execute_result",
          "data": {
            "text/plain": [
              "\"In a dimly lit room, a fluffy tabby cat sits perched on a swivel chair, its tiny paws expertly tapping away at the keyboard of a vintage computer. Sunlight streams through the window, casting long shadows across the room, illuminating the cat's intent gaze as it navigates a virtual world unseen.\""
            ],
            "application/vnd.google.colaboratory.intrinsic+json": {
              "type": "string"
            }
          },
          "metadata": {},
          "execution_count": 3
        }
      ]
    }
  ]
}